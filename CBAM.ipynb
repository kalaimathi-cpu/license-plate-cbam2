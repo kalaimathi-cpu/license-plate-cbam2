{
  "nbformat": 4,
  "nbformat_minor": 0,
  "metadata": {
    "colab": {
      "provenance": [],
      "authorship_tag": "ABX9TyPvMc0rnxgPz1mbvFEztnpw",
      "include_colab_link": true
    },
    "kernelspec": {
      "name": "python3",
      "display_name": "Python 3"
    },
    "language_info": {
      "name": "python"
    }
  },
  "cells": [
    {
      "cell_type": "markdown",
      "metadata": {
        "id": "view-in-github",
        "colab_type": "text"
      },
      "source": [
        "<a href=\"https://colab.research.google.com/github/kalaimathi-cpu/license-plate-cbam2/blob/main/CBAM.ipynb\" target=\"_parent\"><img src=\"https://colab.research.google.com/assets/colab-badge.svg\" alt=\"Open In Colab\"/></a>"
      ]
    },
    {
      "cell_type": "code",
      "execution_count": 1,
      "metadata": {
        "colab": {
          "base_uri": "https://localhost:8080/"
        },
        "id": "PwoFF2E7EIGf",
        "outputId": "cd6cddd2-57e4-46c7-cc7e-58abe0682ed4"
      },
      "outputs": [
        {
          "output_type": "stream",
          "name": "stdout",
          "text": [
            "\n",
            "=== Performance Metrics for CNN + CBAM Model ===\n",
            "Precision:       56.82 %\n",
            "Recall:          44.64 %\n",
            "F1-Score:        50.00 %\n",
            "Mean IoU:        3.37 %\n",
            "Inference Time:  10.25 ms per image\n"
          ]
        }
      ],
      "source": [
        "import numpy as np\n",
        "import time\n",
        "from sklearn.metrics import precision_score, recall_score, f1_score\n",
        "\n",
        "# ------------------------------------------------------------\n",
        "# 1️⃣  SIMULATED DATA (GROUND TRUTH & PREDICTIONS)\n",
        "# ------------------------------------------------------------\n",
        "# Suppose we have 100 sample license plates\n",
        "np.random.seed(42)  # for reproducibility\n",
        "\n",
        "# Ground truth labels (1 = plate detected correctly, 0 = not detected)\n",
        "y_true = np.random.randint(0, 2, 100)\n",
        "\n",
        "# Predictions by CNN + CBAM model\n",
        "y_pred = np.random.randint(0, 2, 100)\n",
        "\n",
        "# ------------------------------------------------------------\n",
        "# 2️⃣  CALCULATE CLASSIFICATION METRICS\n",
        "# ------------------------------------------------------------\n",
        "precision = precision_score(y_true, y_pred)\n",
        "recall = recall_score(y_true, y_pred)\n",
        "f1 = f1_score(y_true, y_pred)\n",
        "\n",
        "# ------------------------------------------------------------\n",
        "# 3️⃣  CALCULATE IoU (Intersection over Union)\n",
        "# ------------------------------------------------------------\n",
        "# Simulate bounding boxes as [x_min, y_min, x_max, y_max]\n",
        "def random_boxes(n=100):\n",
        "    x1 = np.random.randint(0, 200, n)\n",
        "    y1 = np.random.randint(0, 200, n)\n",
        "    x2 = x1 + np.random.randint(20, 100, n)\n",
        "    y2 = y1 + np.random.randint(20, 100, n)\n",
        "    return np.stack([x1, y1, x2, y2], axis=1)\n",
        "\n",
        "gt_boxes = random_boxes(100)\n",
        "pred_boxes = random_boxes(100)\n",
        "\n",
        "def calculate_iou(boxA, boxB):\n",
        "    \"\"\"Compute IoU between two bounding boxes\"\"\"\n",
        "    xA = max(boxA[0], boxB[0])\n",
        "    yA = max(boxA[1], boxB[1])\n",
        "    xB = min(boxA[2], boxB[2])\n",
        "    yB = min(boxA[3], boxB[3])\n",
        "\n",
        "    interArea = max(0, xB - xA) * max(0, yB - yA)\n",
        "    boxAArea = (boxA[2] - boxA[0]) * (boxA[3] - boxA[1])\n",
        "    boxBArea = (boxB[2] - boxB[0]) * (boxB[3] - boxB[1])\n",
        "\n",
        "    return interArea / float(boxAArea + boxBArea - interArea + 1e-6)\n",
        "\n",
        "# Compute mean IoU\n",
        "ious = [calculate_iou(gt_boxes[i], pred_boxes[i]) for i in range(100)]\n",
        "mean_iou = np.mean(ious)\n",
        "\n",
        "# ------------------------------------------------------------\n",
        "# 4️⃣  SIMULATE INFERENCE TIME\n",
        "# ------------------------------------------------------------\n",
        "def model_inference_simulation(num_images=50):\n",
        "    start = time.time()\n",
        "    for _ in range(num_images):\n",
        "        # simulate CNN + CBAM processing time (randomized delay)\n",
        "        time.sleep(np.random.uniform(0.005, 0.015))  # 5–15 ms per image\n",
        "    end = time.time()\n",
        "    avg_time_ms = ((end - start) / num_images) * 1000\n",
        "    return avg_time_ms\n",
        "\n",
        "inference_time = model_inference_simulation()\n",
        "\n",
        "# ------------------------------------------------------------\n",
        "# 5️⃣  DISPLAY RESULTS\n",
        "# ------------------------------------------------------------\n",
        "print(\"\\n=== Performance Metrics for CNN + CBAM Model ===\")\n",
        "print(f\"Precision:       {precision * 100:.2f} %\")\n",
        "print(f\"Recall:          {recall * 100:.2f} %\")\n",
        "print(f\"F1-Score:        {f1 * 100:.2f} %\")\n",
        "print(f\"Mean IoU:        {mean_iou * 100:.2f} %\")\n",
        "print(f\"Inference Time:  {inference_time:.2f} ms per image\")\n"
      ]
    }
  ]
}